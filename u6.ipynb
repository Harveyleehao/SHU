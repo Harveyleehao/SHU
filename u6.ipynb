{
 "cells": [
  {
   "cell_type": "code",
   "execution_count": null,
   "metadata": {},
   "outputs": [],
   "source": [
    "while condition:\n",
    "      statement(s)"
   ]
  },
  {
   "cell_type": "code",
   "execution_count": 2,
   "metadata": {},
   "outputs": [
    {
     "name": "stdout",
     "output_type": "stream",
     "text": [
      "learning python is fun !\n",
      "learning python is fun !\n",
      "learning python is fun !\n",
      "learning python is fun !\n",
      "learning python is fun !\n",
      "learning python is fun !\n",
      "learning python is fun !\n",
      "learning python is fun !\n",
      "learning python is fun !\n",
      "learning python is fun !\n",
      "learning python is fun !\n",
      "learning python is fun !\n",
      "learning python is fun !\n",
      "learning python is fun !\n",
      "learning python is fun !\n",
      "learning python is fun !\n",
      "learning python is fun !\n",
      "learning python is fun !\n",
      "learning python is fun !\n",
      "learning python is fun !\n",
      "learning python is fun !\n",
      "learning python is fun !\n",
      "learning python is fun !\n",
      "learning python is fun !\n",
      "learning python is fun !\n",
      "learning python is fun !\n",
      "learning python is fun !\n",
      "learning python is fun !\n",
      "learning python is fun !\n",
      "learning python is fun !\n",
      "learning python is fun !\n",
      "learning python is fun !\n",
      "learning python is fun !\n",
      "learning python is fun !\n",
      "learning python is fun !\n",
      "learning python is fun !\n",
      "learning python is fun !\n",
      "learning python is fun !\n",
      "learning python is fun !\n",
      "learning python is fun !\n",
      "learning python is fun !\n",
      "learning python is fun !\n",
      "learning python is fun !\n",
      "learning python is fun !\n",
      "learning python is fun !\n",
      "learning python is fun !\n",
      "learning python is fun !\n",
      "learning python is fun !\n",
      "learning python is fun !\n",
      "learning python is fun !\n",
      "learning python is fun !\n",
      "learning python is fun !\n",
      "learning python is fun !\n",
      "learning python is fun !\n",
      "learning python is fun !\n",
      "learning python is fun !\n",
      "learning python is fun !\n",
      "learning python is fun !\n",
      "learning python is fun !\n",
      "learning python is fun !\n",
      "learning python is fun !\n",
      "learning python is fun !\n",
      "learning python is fun !\n",
      "learning python is fun !\n",
      "learning python is fun !\n",
      "learning python is fun !\n",
      "learning python is fun !\n",
      "learning python is fun !\n",
      "learning python is fun !\n",
      "learning python is fun !\n",
      "learning python is fun !\n",
      "learning python is fun !\n",
      "learning python is fun !\n",
      "learning python is fun !\n",
      "learning python is fun !\n",
      "learning python is fun !\n",
      "learning python is fun !\n",
      "learning python is fun !\n",
      "learning python is fun !\n",
      "learning python is fun !\n",
      "learning python is fun !\n",
      "learning python is fun !\n",
      "learning python is fun !\n",
      "learning python is fun !\n",
      "learning python is fun !\n",
      "learning python is fun !\n",
      "learning python is fun !\n",
      "learning python is fun !\n",
      "learning python is fun !\n",
      "learning python is fun !\n",
      "learning python is fun !\n",
      "learning python is fun !\n",
      "learning python is fun !\n",
      "learning python is fun !\n",
      "learning python is fun !\n",
      "learning python is fun !\n",
      "learning python is fun !\n",
      "learning python is fun !\n",
      "learning python is fun !\n",
      "learning python is fun !\n"
     ]
    }
   ],
   "source": [
    "count=1\n",
    "while count<=100:\n",
    "    print('learning python is fun !')\n",
    "    count=count+1"
   ]
  },
  {
   "cell_type": "code",
   "execution_count": 3,
   "metadata": {},
   "outputs": [
    {
     "name": "stdout",
     "output_type": "stream",
     "text": [
      "learning python is fun !\n"
     ]
    }
   ],
   "source": [
    "print('learning python is fun !')\n",
    "count=count+1"
   ]
  },
  {
   "cell_type": "code",
   "execution_count": 4,
   "metadata": {},
   "outputs": [
    {
     "name": "stdout",
     "output_type": "stream",
     "text": [
      "1+2+3+...+10= 55\n"
     ]
    }
   ],
   "source": [
    "total=0\n",
    "total=1+2+3+4+5+6+7+8+9+10\n",
    "print(\"1+2+3+...+10=\",total)"
   ]
  },
  {
   "cell_type": "code",
   "execution_count": 1,
   "metadata": {},
   "outputs": [
    {
     "name": "stdout",
     "output_type": "stream",
     "text": [
      "1+2+3+...+100= 5050\n"
     ]
    }
   ],
   "source": [
    "total=0\n",
    "k=1\n",
    "while k <= 100:\n",
    "    total=total+k\n",
    "    k=k+1\n",
    "print('1+2+3+...+100=',total)"
   ]
  },
  {
   "cell_type": "code",
   "execution_count": 6,
   "metadata": {},
   "outputs": [
    {
     "name": "stdout",
     "output_type": "stream",
     "text": [
      "2+4+6+8+...+100= 2550\n"
     ]
    }
   ],
   "source": [
    "eventotal=0\n",
    "k=2\n",
    "while k<=100:\n",
    "    eventotal=eventotal+k\n",
    "    k=k+2\n",
    "print('2+4+6+8+...+100=',eventotal)"
   ]
  },
  {
   "cell_type": "code",
   "execution_count": 8,
   "metadata": {},
   "outputs": [
    {
     "name": "stdout",
     "output_type": "stream",
     "text": [
      "1\n",
      "2\n",
      "3\n",
      "4\n",
      "5\n"
     ]
    }
   ],
   "source": [
    "for k in range(1,6):\n",
    "    print(k)"
   ]
  },
  {
   "cell_type": "code",
   "execution_count": 9,
   "metadata": {},
   "outputs": [
    {
     "name": "stdout",
     "output_type": "stream",
     "text": [
      "0\n",
      "1\n",
      "2\n",
      "3\n",
      "4\n",
      "5\n"
     ]
    }
   ],
   "source": [
    "for k in range(6):\n",
    "    print(k)"
   ]
  },
  {
   "cell_type": "code",
   "execution_count": 10,
   "metadata": {},
   "outputs": [
    {
     "name": "stdout",
     "output_type": "stream",
     "text": [
      "1\n",
      "3\n",
      "5\n",
      "7\n",
      "9\n"
     ]
    }
   ],
   "source": [
    "for k in range (1,10,2):\n",
    "    print(k)"
   ]
  },
  {
   "cell_type": "code",
   "execution_count": 11,
   "metadata": {},
   "outputs": [
    {
     "name": "stdout",
     "output_type": "stream",
     "text": [
      "10\n",
      "9\n",
      "8\n",
      "7\n",
      "6\n",
      "5\n",
      "4\n",
      "3\n",
      "2\n"
     ]
    }
   ],
   "source": [
    "for k in range (10,1,-1):\n",
    "    print(k)"
   ]
  },
  {
   "cell_type": "code",
   "execution_count": 12,
   "metadata": {},
   "outputs": [
    {
     "name": "stdout",
     "output_type": "stream",
     "text": [
      "10\n",
      "8\n",
      "6\n",
      "4\n",
      "2\n"
     ]
    }
   ],
   "source": [
    "for k in range (10,1,-2):\n",
    "    print(k)"
   ]
  },
  {
   "cell_type": "code",
   "execution_count": 13,
   "metadata": {},
   "outputs": [
    {
     "name": "stdout",
     "output_type": "stream",
     "text": [
      "10\n",
      "8\n",
      "6\n",
      "4\n"
     ]
    }
   ],
   "source": [
    "for k in range (10,2,-2):\n",
    "    print(k)"
   ]
  },
  {
   "cell_type": "code",
   "execution_count": 14,
   "metadata": {},
   "outputs": [
    {
     "name": "stdout",
     "output_type": "stream",
     "text": [
      "learning python is fun!\n",
      "learning python is fun!\n",
      "learning python is fun!\n",
      "learning python is fun!\n",
      "learning python is fun!\n",
      "learning python is fun!\n",
      "learning python is fun!\n",
      "learning python is fun!\n",
      "learning python is fun!\n",
      "learning python is fun!\n",
      "learning python is fun!\n",
      "learning python is fun!\n",
      "learning python is fun!\n",
      "learning python is fun!\n",
      "learning python is fun!\n",
      "learning python is fun!\n",
      "learning python is fun!\n",
      "learning python is fun!\n",
      "learning python is fun!\n",
      "learning python is fun!\n",
      "learning python is fun!\n",
      "learning python is fun!\n",
      "learning python is fun!\n",
      "learning python is fun!\n",
      "learning python is fun!\n",
      "learning python is fun!\n",
      "learning python is fun!\n",
      "learning python is fun!\n",
      "learning python is fun!\n",
      "learning python is fun!\n",
      "learning python is fun!\n",
      "learning python is fun!\n",
      "learning python is fun!\n",
      "learning python is fun!\n",
      "learning python is fun!\n",
      "learning python is fun!\n",
      "learning python is fun!\n",
      "learning python is fun!\n",
      "learning python is fun!\n",
      "learning python is fun!\n",
      "learning python is fun!\n",
      "learning python is fun!\n",
      "learning python is fun!\n",
      "learning python is fun!\n",
      "learning python is fun!\n",
      "learning python is fun!\n",
      "learning python is fun!\n",
      "learning python is fun!\n",
      "learning python is fun!\n",
      "learning python is fun!\n",
      "learning python is fun!\n",
      "learning python is fun!\n",
      "learning python is fun!\n",
      "learning python is fun!\n",
      "learning python is fun!\n",
      "learning python is fun!\n",
      "learning python is fun!\n",
      "learning python is fun!\n",
      "learning python is fun!\n",
      "learning python is fun!\n",
      "learning python is fun!\n",
      "learning python is fun!\n",
      "learning python is fun!\n",
      "learning python is fun!\n",
      "learning python is fun!\n",
      "learning python is fun!\n",
      "learning python is fun!\n",
      "learning python is fun!\n",
      "learning python is fun!\n",
      "learning python is fun!\n",
      "learning python is fun!\n",
      "learning python is fun!\n",
      "learning python is fun!\n",
      "learning python is fun!\n",
      "learning python is fun!\n",
      "learning python is fun!\n",
      "learning python is fun!\n",
      "learning python is fun!\n",
      "learning python is fun!\n",
      "learning python is fun!\n",
      "learning python is fun!\n",
      "learning python is fun!\n",
      "learning python is fun!\n",
      "learning python is fun!\n",
      "learning python is fun!\n",
      "learning python is fun!\n",
      "learning python is fun!\n",
      "learning python is fun!\n",
      "learning python is fun!\n",
      "learning python is fun!\n",
      "learning python is fun!\n",
      "learning python is fun!\n",
      "learning python is fun!\n",
      "learning python is fun!\n",
      "learning python is fun!\n",
      "learning python is fun!\n",
      "learning python is fun!\n",
      "learning python is fun!\n",
      "learning python is fun!\n",
      "learning python is fun!\n"
     ]
    }
   ],
   "source": [
    "for k in range(1,101):\n",
    "    print('learning python is fun!')"
   ]
  },
  {
   "cell_type": "code",
   "execution_count": 15,
   "metadata": {},
   "outputs": [
    {
     "name": "stdout",
     "output_type": "stream",
     "text": [
      "1+2+3+...+100= 5050\n"
     ]
    }
   ],
   "source": [
    "total=0\n",
    "for i in range (1,101):\n",
    "    total+=i\n",
    "print('1+2+3+...+100=',total)"
   ]
  },
  {
   "cell_type": "code",
   "execution_count": 16,
   "metadata": {},
   "outputs": [
    {
     "name": "stdout",
     "output_type": "stream",
     "text": [
      "2+4+6+...+100= 2550\n"
     ]
    }
   ],
   "source": [
    "total=0\n",
    "for i in range(2,101,2):\n",
    "    total+=i\n",
    "print('2+4+6+...+100=',total)"
   ]
  },
  {
   "cell_type": "code",
   "execution_count": 24,
   "metadata": {},
   "outputs": [
    {
     "name": "stdout",
     "output_type": "stream",
     "text": [
      "The number is 0\n",
      "Total is 0\n"
     ]
    }
   ],
   "source": [
    "total=0\n",
    "number=0\n",
    "while number:\n",
    "    number+=1\n",
    "    total+=number\n",
    "    if total>=100:\n",
    "        break\n",
    "print('The number is',number)\n",
    "print('Total is',total)    "
   ]
  },
  {
   "cell_type": "code",
   "execution_count": 25,
   "metadata": {},
   "outputs": [
    {
     "name": "stdout",
     "output_type": "stream",
     "text": [
      "The number is 0\n",
      "Total is 0\n"
     ]
    }
   ],
   "source": [
    "total=0\n",
    "number=0\n",
    "while number:\n",
    "    number+=2\n",
    "    total+=number\n",
    "    if total>=1000:\n",
    "        break\n",
    "print('The number is',number)\n",
    "print('Total is',total)    "
   ]
  },
  {
   "cell_type": "code",
   "execution_count": 29,
   "metadata": {},
   "outputs": [
    {
     "name": "stdout",
     "output_type": "stream",
     "text": [
      "the total is 4000\n"
     ]
    }
   ],
   "source": [
    "total=0\n",
    "number=1\n",
    "while number<=100:\n",
    "    if number%5==0:\n",
    "        number+=1\n",
    "        continue\n",
    "    total+=number\n",
    "    number+=1\n",
    "print('the total is',total)    "
   ]
  },
  {
   "cell_type": "code",
   "execution_count": 31,
   "metadata": {},
   "outputs": [
    {
     "name": "stdout",
     "output_type": "stream",
     "text": [
      "the total is 1050\n"
     ]
    }
   ],
   "source": [
    "total=0\n",
    "number=1\n",
    "while number<=100:\n",
    "    number+=1\n",
    "    if number%5!=0:\n",
    "        continue\n",
    "    total+=number\n",
    "print('the total is',total)    "
   ]
  },
  {
   "cell_type": "code",
   "execution_count": 32,
   "metadata": {},
   "outputs": [
    {
     "name": "stdout",
     "output_type": "stream",
     "text": [
      "the total is 10\n"
     ]
    }
   ],
   "source": [
    "total=0\n",
    "number=0\n",
    "while number<=100:\n",
    "    number+=1\n",
    "    if number%5==0:\n",
    "        break\n",
    "    total+=number\n",
    "print('the total is',total)    "
   ]
  },
  {
   "cell_type": "code",
   "execution_count": 33,
   "metadata": {},
   "outputs": [
    {
     "name": "stdout",
     "output_type": "stream",
     "text": [
      "1+3+5+...+99= 2500\n"
     ]
    }
   ],
   "source": [
    "oddtotal=0\n",
    "k=1\n",
    "while k<=100:\n",
    "    oddtotal=oddtotal+k\n",
    "    k=k+2\n",
    "print('1+3+5+...+99=',oddtotal)\n"
   ]
  },
  {
   "cell_type": "code",
   "execution_count": 35,
   "metadata": {},
   "outputs": [
    {
     "name": "stdout",
     "output_type": "stream",
     "text": [
      "1+3+5+...+99= 2500\n"
     ]
    }
   ],
   "source": [
    "oddtotal=0\n",
    "k=1\n",
    "while k<=100:\n",
    "    oddtotal+=k\n",
    "    k+=2\n",
    "print('1+3+5+...+99=',oddtotal)\n"
   ]
  },
  {
   "cell_type": "code",
   "execution_count": 37,
   "metadata": {},
   "outputs": [
    {
     "name": "stdout",
     "output_type": "stream",
     "text": [
      "i= 1\n",
      "j= 1\n",
      "j= 2\n",
      "j= 3\n",
      "j= 4\n",
      "j= 5\n",
      "j= 6\n",
      "j= 7\n",
      "j= 8\n",
      "j= 9\n",
      "\n",
      "i= 2\n",
      "j= 1\n",
      "j= 2\n",
      "j= 3\n",
      "j= 4\n",
      "j= 5\n",
      "j= 6\n",
      "j= 7\n",
      "j= 8\n",
      "j= 9\n",
      "\n",
      "i= 3\n",
      "j= 1\n",
      "j= 2\n",
      "j= 3\n",
      "j= 4\n",
      "j= 5\n",
      "j= 6\n",
      "j= 7\n",
      "j= 8\n",
      "j= 9\n",
      "\n",
      "i= 4\n",
      "j= 1\n",
      "j= 2\n",
      "j= 3\n",
      "j= 4\n",
      "j= 5\n",
      "j= 6\n",
      "j= 7\n",
      "j= 8\n",
      "j= 9\n",
      "\n",
      "i= 5\n",
      "j= 1\n",
      "j= 2\n",
      "j= 3\n",
      "j= 4\n",
      "j= 5\n",
      "j= 6\n",
      "j= 7\n",
      "j= 8\n",
      "j= 9\n",
      "\n",
      "i= 6\n",
      "j= 1\n",
      "j= 2\n",
      "j= 3\n",
      "j= 4\n",
      "j= 5\n",
      "j= 6\n",
      "j= 7\n",
      "j= 8\n",
      "j= 9\n",
      "\n",
      "i= 7\n",
      "j= 1\n",
      "j= 2\n",
      "j= 3\n",
      "j= 4\n",
      "j= 5\n",
      "j= 6\n",
      "j= 7\n",
      "j= 8\n",
      "j= 9\n",
      "\n",
      "i= 8\n",
      "j= 1\n",
      "j= 2\n",
      "j= 3\n",
      "j= 4\n",
      "j= 5\n",
      "j= 6\n",
      "j= 7\n",
      "j= 8\n",
      "j= 9\n",
      "\n",
      "i= 9\n",
      "j= 1\n",
      "j= 2\n",
      "j= 3\n",
      "j= 4\n",
      "j= 5\n",
      "j= 6\n",
      "j= 7\n",
      "j= 8\n",
      "j= 9\n",
      "\n"
     ]
    }
   ],
   "source": [
    "for i in range(1,10):\n",
    "    print('i=',i)\n",
    "    for j in range(1,10):\n",
    "        print('j=',j)\n",
    "    print('')"
   ]
  },
  {
   "cell_type": "code",
   "execution_count": 38,
   "metadata": {},
   "outputs": [
    {
     "name": "stdout",
     "output_type": "stream",
     "text": [
      "10*20=200\n"
     ]
    }
   ],
   "source": [
    "i=10\n",
    "j=20\n",
    "\n",
    "print(\"%d*%d=%2d\"%(i,j,i*j))"
   ]
  },
  {
   "cell_type": "code",
   "execution_count": 39,
   "metadata": {},
   "outputs": [
    {
     "name": "stdout",
     "output_type": "stream",
     "text": [
      "1*1= 1\n",
      "1*2= 2\n",
      "1*3= 3\n",
      "1*4= 4\n",
      "1*5= 5\n",
      "1*6= 6\n",
      "1*7= 7\n",
      "1*8= 8\n",
      "1*9= 9\n",
      "2*1= 2\n",
      "2*2= 4\n",
      "2*3= 6\n",
      "2*4= 8\n",
      "2*5=10\n",
      "2*6=12\n",
      "2*7=14\n",
      "2*8=16\n",
      "2*9=18\n",
      "3*1= 3\n",
      "3*2= 6\n",
      "3*3= 9\n",
      "3*4=12\n",
      "3*5=15\n",
      "3*6=18\n",
      "3*7=21\n",
      "3*8=24\n",
      "3*9=27\n",
      "4*1= 4\n",
      "4*2= 8\n",
      "4*3=12\n",
      "4*4=16\n",
      "4*5=20\n",
      "4*6=24\n",
      "4*7=28\n",
      "4*8=32\n",
      "4*9=36\n",
      "5*1= 5\n",
      "5*2=10\n",
      "5*3=15\n",
      "5*4=20\n",
      "5*5=25\n",
      "5*6=30\n",
      "5*7=35\n",
      "5*8=40\n",
      "5*9=45\n",
      "6*1= 6\n",
      "6*2=12\n",
      "6*3=18\n",
      "6*4=24\n",
      "6*5=30\n",
      "6*6=36\n",
      "6*7=42\n",
      "6*8=48\n",
      "6*9=54\n",
      "7*1= 7\n",
      "7*2=14\n",
      "7*3=21\n",
      "7*4=28\n",
      "7*5=35\n",
      "7*6=42\n",
      "7*7=49\n",
      "7*8=56\n",
      "7*9=63\n",
      "8*1= 8\n",
      "8*2=16\n",
      "8*3=24\n",
      "8*4=32\n",
      "8*5=40\n",
      "8*6=48\n",
      "8*7=56\n",
      "8*8=64\n",
      "8*9=72\n",
      "9*1= 9\n",
      "9*2=18\n",
      "9*3=27\n",
      "9*4=36\n",
      "9*5=45\n",
      "9*6=54\n",
      "9*7=63\n",
      "9*8=72\n",
      "9*9=81\n"
     ]
    }
   ],
   "source": [
    "for i in range(1,10):\n",
    "    for j in range(1,10):\n",
    "        print('%d*%d=%2d'%(i,j,i*j))"
   ]
  },
  {
   "cell_type": "code",
   "execution_count": 41,
   "metadata": {},
   "outputs": [
    {
     "name": "stdout",
     "output_type": "stream",
     "text": [
      "1*1= 1 1*2= 2 1*3= 3 1*4= 4 1*5= 5 1*6= 6 1*7= 7 1*8= 8 1*9= 9 2*1= 2 2*2= 4 2*3= 6 2*4= 8 2*5=10 2*6=12 2*7=14 2*8=16 2*9=18 3*1= 3 3*2= 6 3*3= 9 3*4=12 3*5=15 3*6=18 3*7=21 3*8=24 3*9=27 4*1= 4 4*2= 8 4*3=12 4*4=16 4*5=20 4*6=24 4*7=28 4*8=32 4*9=36 5*1= 5 5*2=10 5*3=15 5*4=20 5*5=25 5*6=30 5*7=35 5*8=40 5*9=45 6*1= 6 6*2=12 6*3=18 6*4=24 6*5=30 6*6=36 6*7=42 6*8=48 6*9=54 7*1= 7 7*2=14 7*3=21 7*4=28 7*5=35 7*6=42 7*7=49 7*8=56 7*9=63 8*1= 8 8*2=16 8*3=24 8*4=32 8*5=40 8*6=48 8*7=56 8*8=64 8*9=72 9*1= 9 9*2=18 9*3=27 9*4=36 9*5=45 9*6=54 9*7=63 9*8=72 9*9=81 "
     ]
    }
   ],
   "source": [
    "for i in range(1,10):\n",
    "    for j in range(1,10):\n",
    "        print('%d*%d=%2d'%(i,j,i*j),end=' ')"
   ]
  },
  {
   "cell_type": "code",
   "execution_count": 42,
   "metadata": {},
   "outputs": [
    {
     "name": "stdout",
     "output_type": "stream",
     "text": [
      "1*1= 1 1*2= 2 1*3= 3 1*4= 4 1*5= 5 1*6= 6 1*7= 7 1*8= 8 1*9= 9 \n",
      "2*1= 2 2*2= 4 2*3= 6 2*4= 8 2*5=10 2*6=12 2*7=14 2*8=16 2*9=18 \n",
      "3*1= 3 3*2= 6 3*3= 9 3*4=12 3*5=15 3*6=18 3*7=21 3*8=24 3*9=27 \n",
      "4*1= 4 4*2= 8 4*3=12 4*4=16 4*5=20 4*6=24 4*7=28 4*8=32 4*9=36 \n",
      "5*1= 5 5*2=10 5*3=15 5*4=20 5*5=25 5*6=30 5*7=35 5*8=40 5*9=45 \n",
      "6*1= 6 6*2=12 6*3=18 6*4=24 6*5=30 6*6=36 6*7=42 6*8=48 6*9=54 \n",
      "7*1= 7 7*2=14 7*3=21 7*4=28 7*5=35 7*6=42 7*7=49 7*8=56 7*9=63 \n",
      "8*1= 8 8*2=16 8*3=24 8*4=32 8*5=40 8*6=48 8*7=56 8*8=64 8*9=72 \n",
      "9*1= 9 9*2=18 9*3=27 9*4=36 9*5=45 9*6=54 9*7=63 9*8=72 9*9=81 \n"
     ]
    }
   ],
   "source": [
    "for i in range(1,10):\n",
    "    for j in range(1,10):\n",
    "        print('%d*%d=%2d'%(i,j,i*j),end=' ')\n",
    "    print()"
   ]
  },
  {
   "cell_type": "code",
   "execution_count": 45,
   "metadata": {},
   "outputs": [
    {
     "name": "stdout",
     "output_type": "stream",
     "text": [
      "1*1= 1 2*1= 2 3*1= 3 4*1= 4 5*1= 5 6*1= 6 7*1= 7 8*1= 8 9*1= 9 \n",
      "1*2= 2 2*2= 4 3*2= 6 4*2= 8 5*2=10 6*2=12 7*2=14 8*2=16 9*2=18 \n",
      "1*3= 3 2*3= 6 3*3= 9 4*3=12 5*3=15 6*3=18 7*3=21 8*3=24 9*3=27 \n",
      "1*4= 4 2*4= 8 3*4=12 4*4=16 5*4=20 6*4=24 7*4=28 8*4=32 9*4=36 \n",
      "1*5= 5 2*5=10 3*5=15 4*5=20 5*5=25 6*5=30 7*5=35 8*5=40 9*5=45 \n",
      "1*6= 6 2*6=12 3*6=18 4*6=24 5*6=30 6*6=36 7*6=42 8*6=48 9*6=54 \n",
      "1*7= 7 2*7=14 3*7=21 4*7=28 5*7=35 6*7=42 7*7=49 8*7=56 9*7=63 \n",
      "1*8= 8 2*8=16 3*8=24 4*8=32 5*8=40 6*8=48 7*8=56 8*8=64 9*8=72 \n",
      "1*9= 9 2*9=18 3*9=27 4*9=36 5*9=45 6*9=54 7*9=63 8*9=72 9*9=81 \n"
     ]
    }
   ],
   "source": [
    "for i in range(1,10):\n",
    "    for j in range(1,10):\n",
    "        print('%d*%d=%2d'%(j,i,i*j),end=' ')\n",
    "    print()"
   ]
  },
  {
   "cell_type": "code",
   "execution_count": 46,
   "metadata": {},
   "outputs": [
    {
     "data": {
      "text/plain": [
       "0.8803369836739836"
      ]
     },
     "execution_count": 46,
     "metadata": {},
     "output_type": "execute_result"
    }
   ],
   "source": [
    "import random\n",
    "random.random()"
   ]
  },
  {
   "cell_type": "code",
   "execution_count": 48,
   "metadata": {},
   "outputs": [
    {
     "data": {
      "text/plain": [
       "35"
      ]
     },
     "execution_count": 48,
     "metadata": {},
     "output_type": "execute_result"
    }
   ],
   "source": [
    "random.randint(1,45)"
   ]
  },
  {
   "cell_type": "code",
   "execution_count": 51,
   "metadata": {},
   "outputs": [
    {
     "name": "stdout",
     "output_type": "stream",
     "text": [
      "99 51 83 71 87 63 48 51 9 94 39 72 85 57 15 55 97 24 43 2 91 59 39 74 15 99 45 77 88 75 35 41 59 3 1 3 97 51 30 50 21 75 65 100 77 58 27 59 50 94 71 21 62 46 55 45 80 84 19 58 12 96 55 1 27 80 72 36 42 71 32 89 68 39 46 73 46 12 76 23 89 2 58 80 10 7 87 55 39 8 58 30 30 30 26 51 8 77 32 55 "
     ]
    }
   ],
   "source": [
    "import random\n",
    "for i in range (1,101):\n",
    "    randomnumber=random.randint(1,100)\n",
    "    print(randomnumber,end=' ')"
   ]
  },
  {
   "cell_type": "code",
   "execution_count": 54,
   "metadata": {},
   "outputs": [
    {
     "name": "stdout",
     "output_type": "stream",
     "text": [
      "27 60 5 10 58 37 85 70 23 31 66 30 60 98 30 31 27 8 41 57 11 58 20 68 70 100 15 1 85 3 97 29 88 3 90 32 6 25 47 72 23 43 35 85 47 53 52 50 40 16 50 86 56 62 20 98 95 42 61 6 3 81 5 9 52 78 96 74 71 3 22 9 59 1 89 7 79 98 22 30 19 81 58 66 100 24 86 34 52 100 18 5 70 97 14 7 21 8 80 57 \n",
      "even number: 53 \n",
      "odd number: 47\n"
     ]
    }
   ],
   "source": [
    "import random\n",
    "evencount=0\n",
    "oddcount=0\n",
    "for i in range(1,101):\n",
    "    randomnumber=random.randint(1,100)\n",
    "    print(randomnumber,end=' ')\n",
    "    if randomnumber%2==0:\n",
    "        evencount+=1\n",
    "oddcount=100-evencount\n",
    "\n",
    "print('\\neven number:',evencount,'\\nodd number:',oddcount)"
   ]
  },
  {
   "cell_type": "code",
   "execution_count": 56,
   "metadata": {},
   "outputs": [
    {
     "name": "stdout",
     "output_type": "stream",
     "text": [
      "   91   9210    73   46    5   42   98   37   3720    34   45   71   85   32   75   37   77    1   24   81   48   46   51   2240    36   46   44   2870    41   52   82   3810     4   19   76   53   24   58   36    1   36    640    73   66   66   11   23    4   32    2   3610    77   59    8   12   75   9630    56    8   38   52   61   76   87   96   8130    8270    69   6110    51   51   65   33   42   96   84   67   26   25   38   79   17   48   98   15   36   22   36   45\n",
      "even number: 61 \n",
      "odd number: 39\n"
     ]
    }
   ],
   "source": [
    "import random\n",
    "evencount=0\n",
    "oddcount=0\n",
    "numbercount=0\n",
    "\n",
    "for i in range(1,101):\n",
    "    randomnumber=random.randint(1,100)\n",
    "    numbercount+=1\n",
    "    if randomnumber%10==0:\n",
    "        print(randomnumber,end=' ')\n",
    "    else:\n",
    "        print(format(randomnumber,'5d'),end=\"\")\n",
    "    if randomnumber%2==0:\n",
    "        evencount+=1\n",
    "oddcount=100-evencount\n",
    "\n",
    "print('\\neven number:',evencount,'\\nodd number:',oddcount)"
   ]
  },
  {
   "cell_type": "code",
   "execution_count": 57,
   "metadata": {},
   "outputs": [
    {
     "name": "stdout",
     "output_type": "stream",
     "text": [
      "please input an integer:26\n",
      "26 is not prime number\n"
     ]
    }
   ],
   "source": [
    "number=eval(input('please input an integer:'))\n",
    "divisor=2\n",
    "flag=1\n",
    "while divisor < number:\n",
    "    if number % divisor ==0:\n",
    "        # if ture,number is not prime number\n",
    "        flag=0\n",
    "        break\n",
    "    divisor+=1\n",
    "if flag ==0:\n",
    "    print(number,'is not prime number')\n",
    "else:\n",
    "    print(number,'is prime number')"
   ]
  },
  {
   "cell_type": "code",
   "execution_count": 58,
   "metadata": {},
   "outputs": [
    {
     "name": "stdout",
     "output_type": "stream",
     "text": [
      "please input an integer:233\n",
      "233 is prime number\n"
     ]
    }
   ],
   "source": [
    "number=eval(input('please input an integer:'))\n",
    "divisor=2\n",
    "flag=1\n",
    "while divisor <= number/2:\n",
    "    if number % divisor ==0:\n",
    "        # if ture,number is not prime number\n",
    "        flag=0\n",
    "        break\n",
    "    divisor+=1\n",
    "if flag ==0:\n",
    "    print(number,'is not prime number')\n",
    "else:\n",
    "    print(number,'is prime number')"
   ]
  },
  {
   "cell_type": "code",
   "execution_count": 59,
   "metadata": {},
   "outputs": [
    {
     "name": "stdout",
     "output_type": "stream",
     "text": [
      "2 3 5 7 11 13 17 19 23 29 31 37 41 43 47 53 59 61 67 71 73 79 83 89 97 101 103 107 109 113 127 131 137 139 149 151 157 163 167 173 179 181 191 193 197 199 211 223 227 229 233 239 241 251 257 263 269 271 277 281 283 293 307 311 313 317 331 337 347 349 353 359 367 373 379 383 389 397 401 409 419 421 431 433 439 443 449 457 461 463 467 479 487 491 499 503 509 521 523 541 547 557 563 569 571 577 587 593 599 601 607 613 617 619 631 641 643 647 653 659 661 673 677 683 691 701 709 719 727 733 739 743 751 757 761 769 773 787 797 809 811 821 823 827 829 839 853 857 859 863 877 881 883 887 907 911 919 929 937 941 947 953 967 971 977 983 991 997 "
     ]
    }
   ],
   "source": [
    "for number in range (2,1001):\n",
    "    divisor=2\n",
    "    flag=1\n",
    "    while divisor <= number/2:\n",
    "        if number% divisor ==0:\n",
    "            flag=0\n",
    "            break\n",
    "        divisor+=1\n",
    "    if flag ==1:\n",
    "        print(number,end=' ')"
   ]
  },
  {
   "cell_type": "code",
   "execution_count": 60,
   "metadata": {},
   "outputs": [
    {
     "name": "stdout",
     "output_type": "stream",
     "text": [
      "    2     3     5     7    11    13    17    19    23    29\n",
      "   31    37    41    43    47    53    59    61    67    71\n",
      "   73    79    83    89    97   101   103   107   109   113\n",
      "  127   131   137   139   149   151   157   163   167   173\n",
      "  179   181   191   193   197   199   211   223   227   229\n",
      "  233   239   241   251   257   263   269   271   277   281\n",
      "  283   293   307   311   313   317   331   337   347   349\n",
      "  353   359   367   373   379   383   389   397   401   409\n",
      "  419   421   431   433   439   443   449   457   461   463\n",
      "  467   479   487   491   499   503   509   521   523   541\n",
      "  547   557   563   569   571   577   587   593   599   601\n",
      "  607   613   617   619   631   641   643   647   653   659\n",
      "  661   673   677   683   691   701   709   719   727   733\n",
      "  739   743   751   757   761   769   773   787   797   809\n",
      "  811   821   823   827   829   839   853   857   859   863\n",
      "  877   881   883   887   907   911   919   929   937   941\n",
      "  947   953   967   971   977   983   991   997 "
     ]
    }
   ],
   "source": [
    "count=0\n",
    "for number in range(2,1001):\n",
    "    divisor=2\n",
    "    flag=1\n",
    "    while divisor <=number/2:\n",
    "        if number % divisor==0:\n",
    "            flag=0\n",
    "            break\n",
    "        divisor+=1\n",
    "    if flag==1:\n",
    "        count+=1\n",
    "        if count%10==0:\n",
    "            print(format(number,'5d'))\n",
    "        else:\n",
    "            print(format(number,'5d'),end=' ')"
   ]
  },
  {
   "cell_type": "code",
   "execution_count": 61,
   "metadata": {},
   "outputs": [
    {
     "name": "stdout",
     "output_type": "stream",
     "text": [
      "please input an integer:125\n",
      "please input an integer:2525\n",
      "the gcd for 125 and 2525 is 25\n"
     ]
    }
   ],
   "source": [
    "number1=eval(input('please input an integer:'))\n",
    "number2=eval(input('please input an integer:'))\n",
    "gcd=1\n",
    "k=2\n",
    "while k<=number1 and k<= number2:\n",
    "    if number1% k ==0 and number2%k==0:\n",
    "        gcd=k\n",
    "    k=k+1\n",
    "print('the gcd for',number1,'and',number2,'is',gcd)"
   ]
  },
  {
   "cell_type": "code",
   "execution_count": 63,
   "metadata": {},
   "outputs": [
    {
     "name": "stdout",
     "output_type": "stream",
     "text": [
      "please input an numerator1:1\n",
      "please input an denominator1:2\n",
      "please input an numerator2:1\n",
      "please input an denominator2:6\n",
      "the gcd for 8 and 12 is 4\n",
      "1/2+1/6=\n",
      "2/3\n"
     ]
    }
   ],
   "source": [
    "numerator1=eval(input('please input an numerator1:'))\n",
    "denominator1=eval(input('please input an denominator1:'))\n",
    "\n",
    "numerator2=eval(input('please input an numerator2:'))\n",
    "denominator2=eval(input('please input an denominator2:'))\n",
    "\n",
    "number1=numerator1*denominator2+numerator2*denominator1\n",
    "number2=denominator1*denominator2\n",
    "\n",
    "gcd=1\n",
    "k=2\n",
    "while k<= number1 and k<=number2:\n",
    "    if number1%k==0 and number2 %k==0:\n",
    "        gcd=k\n",
    "    k+=1\n",
    "print('the gcd for',number1,'and',number2,'is',gcd)\n",
    "print('%d/%d+%d/%d='%(numerator1,denominator1,numerator2,denominator2))\n",
    "print('%d/%d'%(number1/gcd,number2/gcd))"
   ]
  },
  {
   "cell_type": "code",
   "execution_count": 64,
   "metadata": {},
   "outputs": [
    {
     "name": "stdout",
     "output_type": "stream",
     "text": [
      "49 22 33 1 22 19 "
     ]
    }
   ],
   "source": [
    "import random\n",
    "for i in range(1,7):\n",
    "    k=random.randint(1,49)\n",
    "    print(k,end=' ')"
   ]
  },
  {
   "cell_type": "code",
   "execution_count": 65,
   "metadata": {},
   "outputs": [
    {
     "name": "stdout",
     "output_type": "stream",
     "text": [
      "1050\n"
     ]
    }
   ],
   "source": [
    "fivemulti =0\n",
    "k=5\n",
    "while k<=100:\n",
    "    fivemulti+=k\n",
    "    k+=5\n",
    "print(fivemulti)"
   ]
  },
  {
   "cell_type": "code",
   "execution_count": 66,
   "metadata": {},
   "outputs": [
    {
     "name": "stdout",
     "output_type": "stream",
     "text": [
      "0123456789\n",
      "23456789\n",
      "13579\n",
      "9753\n"
     ]
    }
   ],
   "source": [
    "for i in range(10):\n",
    "    print(i,end='')\n",
    "print('')\n",
    "\n",
    "for i in range(2,10):\n",
    "    print(i,end='')\n",
    "print('')\n",
    "\n",
    "for i in range(1,10,2):\n",
    "    print(i,end='')\n",
    "print('')\n",
    "\n",
    "for i in range(9,1,-2):\n",
    "    print(i,end='')\n",
    "print('')\n"
   ]
  },
  {
   "cell_type": "code",
   "execution_count": 67,
   "metadata": {},
   "outputs": [
    {
     "name": "stdout",
     "output_type": "stream",
     "text": [
      "  0  1  2  3  4  5  6  7  8  9\n",
      "  2  3  4  5  6  7  8  9\n",
      "  1  3  5  7  9\n",
      "  9  7  5  3\n"
     ]
    }
   ],
   "source": [
    "for i in range(10):\n",
    "    print('%3d'%(i),end='')\n",
    "print('')\n",
    "\n",
    "for i in range(2,10):\n",
    "    print('%3d'%(i),end='')\n",
    "print('')\n",
    "\n",
    "for i in range(1,10,2):\n",
    "    print('%3d'%(i),end='')\n",
    "print('')\n",
    "\n",
    "for i in range(9,1,-2):\n",
    "    print('%3d'%(i),end='')\n",
    "print('')\n"
   ]
  },
  {
   "cell_type": "code",
   "execution_count": 69,
   "metadata": {},
   "outputs": [
    {
     "ename": "NameError",
     "evalue": "name 'Ture' is not defined",
     "output_type": "error",
     "traceback": [
      "\u001b[1;31m---------------------------------------------------------------------------\u001b[0m",
      "\u001b[1;31mNameError\u001b[0m                                 Traceback (most recent call last)",
      "\u001b[1;32m<ipython-input-69-0a3437e78d67>\u001b[0m in \u001b[0;36m<module>\u001b[1;34m\u001b[0m\n\u001b[0;32m      1\u001b[0m \u001b[0mtotal\u001b[0m\u001b[1;33m=\u001b[0m\u001b[1;36m0\u001b[0m\u001b[1;33m\u001b[0m\u001b[1;33m\u001b[0m\u001b[0m\n\u001b[0;32m      2\u001b[0m \u001b[0mnum\u001b[0m\u001b[1;33m=\u001b[0m\u001b[1;36m0\u001b[0m\u001b[1;33m\u001b[0m\u001b[1;33m\u001b[0m\u001b[0m\n\u001b[1;32m----> 3\u001b[1;33m \u001b[1;32mwhile\u001b[0m \u001b[0mTure\u001b[0m\u001b[1;33m:\u001b[0m\u001b[1;33m\u001b[0m\u001b[1;33m\u001b[0m\u001b[0m\n\u001b[0m\u001b[0;32m      4\u001b[0m     \u001b[0mnum\u001b[0m\u001b[1;33m+=\u001b[0m\u001b[1;36m1\u001b[0m\u001b[1;33m\u001b[0m\u001b[1;33m\u001b[0m\u001b[0m\n\u001b[0;32m      5\u001b[0m     \u001b[0mtotal\u001b[0m\u001b[1;33m+=\u001b[0m\u001b[0mnum\u001b[0m\u001b[1;33m\u001b[0m\u001b[1;33m\u001b[0m\u001b[0m\n",
      "\u001b[1;31mNameError\u001b[0m: name 'Ture' is not defined"
     ]
    }
   ],
   "source": [
    "total=0\n",
    "num=0\n",
    "while Ture:\n",
    "    num+=1\n",
    "    total+=num\n",
    "    if total>=5050:\n",
    "        break\n",
    "print('1+2+3+...+%d'%(num,total))"
   ]
  },
  {
   "cell_type": "code",
   "execution_count": 72,
   "metadata": {},
   "outputs": [
    {
     "name": "stdout",
     "output_type": "stream",
     "text": [
      "1+3+5+...+99= 2500\n"
     ]
    }
   ],
   "source": [
    "total=0\n",
    "num=1\n",
    "while num<=100:\n",
    "    if num %2==0:\n",
    "        num+=1\n",
    "        continue\n",
    "    total+=num\n",
    "    num+=1\n",
    "print('1+3+5+...+99=',total)"
   ]
  },
  {
   "cell_type": "code",
   "execution_count": 73,
   "metadata": {},
   "outputs": [
    {
     "name": "stdout",
     "output_type": "stream",
     "text": [
      "1+3+5+...+99= 2500\n"
     ]
    }
   ],
   "source": [
    "total=0\n",
    "for i in range (1,101):\n",
    "    if i%2==1:\n",
    "        total+=i\n",
    "    else:\n",
    "        continue\n",
    "print('1+3+5+...+99=',total)"
   ]
  },
  {
   "cell_type": "code",
   "execution_count": 74,
   "metadata": {},
   "outputs": [
    {
     "name": "stdout",
     "output_type": "stream",
     "text": [
      "*\n",
      "*\n",
      "*\n",
      "*\n",
      "*\n",
      "*\n",
      "*\n",
      "*\n",
      "*\n",
      "*\n",
      "*\n",
      "*\n",
      "*\n",
      "*\n",
      "*\n",
      "*\n",
      "*\n",
      "*\n",
      "*\n",
      "*\n",
      "*\n",
      "*\n",
      "*\n",
      "*\n",
      "*\n",
      "*\n",
      "*\n",
      "*\n",
      "*\n",
      "*\n",
      "*\n",
      "*\n",
      "*\n",
      "*\n",
      "*\n",
      "*\n",
      "*\n",
      "*\n",
      "*\n",
      "*\n",
      "*\n",
      "*\n",
      "*\n",
      "*\n",
      "*\n",
      "*\n",
      "*\n",
      "*\n",
      "*\n",
      "*\n",
      "*\n",
      "*\n",
      "*\n",
      "*\n",
      "*\n"
     ]
    }
   ],
   "source": [
    "for i in range(10):\n",
    "  for j in range (i,10):\n",
    "    print('*',end='')\n",
    "    print('')"
   ]
  },
  {
   "cell_type": "code",
   "execution_count": 75,
   "metadata": {},
   "outputs": [
    {
     "name": "stdout",
     "output_type": "stream",
     "text": [
      "\n",
      "*\n",
      "**\n",
      "***\n",
      "****\n",
      "*****\n",
      "******\n",
      "*******\n",
      "********\n"
     ]
    }
   ],
   "source": [
    "for i in range (9):\n",
    "    for j in range(i):\n",
    "        print('*',end='')\n",
    "    print('')"
   ]
  },
  {
   "cell_type": "code",
   "execution_count": 77,
   "metadata": {},
   "outputs": [
    {
     "name": "stdout",
     "output_type": "stream",
     "text": [
      "190\n"
     ]
    }
   ],
   "source": [
    "fivemulti =0\n",
    "k=10\n",
    "while k<=100:\n",
    "    fivemulti+=10\n",
    "    k+=5\n",
    "print(fivemulti)"
   ]
  },
  {
   "cell_type": "code",
   "execution_count": 78,
   "metadata": {},
   "outputs": [
    {
     "name": "stdout",
     "output_type": "stream",
     "text": [
      "1045\n"
     ]
    }
   ],
   "source": [
    "fivemulti =0\n",
    "k=10\n",
    "while k<=100:\n",
    "    fivemulti+=k\n",
    "    k+=5\n",
    "print(fivemulti)"
   ]
  },
  {
   "cell_type": "code",
   "execution_count": 82,
   "metadata": {},
   "outputs": [
    {
     "ename": "NameError",
     "evalue": "name 'Ture' is not defined",
     "output_type": "error",
     "traceback": [
      "\u001b[1;31m---------------------------------------------------------------------------\u001b[0m",
      "\u001b[1;31mNameError\u001b[0m                                 Traceback (most recent call last)",
      "\u001b[1;32m<ipython-input-82-c5046a34379b>\u001b[0m in \u001b[0;36m<module>\u001b[1;34m\u001b[0m\n\u001b[0;32m      1\u001b[0m \u001b[0mnum\u001b[0m\u001b[1;33m=\u001b[0m\u001b[1;36m1\u001b[0m\u001b[1;33m\u001b[0m\u001b[1;33m\u001b[0m\u001b[0m\n\u001b[1;32m----> 2\u001b[1;33m \u001b[1;32mwhile\u001b[0m \u001b[0mTure\u001b[0m\u001b[1;33m:\u001b[0m\u001b[1;33m\u001b[0m\u001b[1;33m\u001b[0m\u001b[0m\n\u001b[0m\u001b[0;32m      3\u001b[0m     \u001b[0mnum\u001b[0m\u001b[1;33m+=\u001b[0m\u001b[1;36m1\u001b[0m\u001b[1;33m\u001b[0m\u001b[1;33m\u001b[0m\u001b[0m\n\u001b[0;32m      4\u001b[0m     \u001b[0mtotal\u001b[0m\u001b[1;33m+=\u001b[0m\u001b[0mnum\u001b[0m\u001b[1;33m\u001b[0m\u001b[1;33m\u001b[0m\u001b[0m\n\u001b[0;32m      5\u001b[0m     \u001b[1;32mif\u001b[0m \u001b[0mtotal\u001b[0m\u001b[1;33m>=\u001b[0m\u001b[1;36m5050\u001b[0m\u001b[1;33m:\u001b[0m\u001b[1;33m\u001b[0m\u001b[1;33m\u001b[0m\u001b[0m\n",
      "\u001b[1;31mNameError\u001b[0m: name 'Ture' is not defined"
     ]
    }
   ],
   "source": [
    "num=1\n",
    "while Ture:\n",
    "    num+=1\n",
    "    total+=num\n",
    "    if total>=5050:\n",
    "        break\n",
    "print('1+2+3+...+%d'%(num,total))"
   ]
  },
  {
   "cell_type": "code",
   "execution_count": null,
   "metadata": {},
   "outputs": [],
   "source": [
    "total=0\n",
    "num=1\n",
    "while num<=100:\n",
    "    if num%2==0:\n",
    "        num+=1\n",
    "        continue\n",
    "    total+=num\n",
    "print('1+3+5+...+99=',total)    "
   ]
  },
  {
   "cell_type": "code",
   "execution_count": null,
   "metadata": {},
   "outputs": [],
   "source": [
    "total=0\n",
    "for i in range (2,100):\n",
    "    if i%2==0\n",
    "       total+=i\n",
    "    else:\n",
    "        continue\n",
    "print('2+4+6+...+100=',total)    "
   ]
  },
  {
   "cell_type": "code",
   "execution_count": null,
   "metadata": {},
   "outputs": [],
   "source": []
  }
 ],
 "metadata": {
  "kernelspec": {
   "display_name": "Python 3",
   "language": "python",
   "name": "python3"
  },
  "language_info": {
   "codemirror_mode": {
    "name": "ipython",
    "version": 3
   },
   "file_extension": ".py",
   "mimetype": "text/x-python",
   "name": "python",
   "nbconvert_exporter": "python",
   "pygments_lexer": "ipython3",
   "version": "3.7.3"
  }
 },
 "nbformat": 4,
 "nbformat_minor": 2
}

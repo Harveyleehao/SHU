{
 "cells": [
  {
   "cell_type": "code",
   "execution_count": 4,
   "metadata": {},
   "outputs": [
    {
     "name": "stdout",
     "output_type": "stream",
     "text": [
      "21.0\n",
      "23.0\n"
     ]
    }
   ],
   "source": [
    "#3-6\n",
    "a=7+8*2-6+8/2\n",
    "print(a)\n",
    "b=(7+8)*2-(6+8)/2\n",
    "print(b)"
   ]
  },
  {
   "cell_type": "code",
   "execution_count": 5,
   "metadata": {},
   "outputs": [
    {
     "name": "stdout",
     "output_type": "stream",
     "text": [
      "learning pythonis fun\n"
     ]
    }
   ],
   "source": [
    "str1='learning python'+'is fun'\n",
    "print(str1)"
   ]
  },
  {
   "cell_type": "code",
   "execution_count": 6,
   "metadata": {},
   "outputs": [
    {
     "name": "stdout",
     "output_type": "stream",
     "text": [
      "learning pythonis fun\n"
     ]
    }
   ],
   "source": [
    "str2='learning python'+\\\n",
    "'is fun'\n",
    "print(str2)"
   ]
  },
  {
   "cell_type": "code",
   "execution_count": 7,
   "metadata": {},
   "outputs": [
    {
     "name": "stdout",
     "output_type": "stream",
     "text": [
      "Is your birthday is set1?\n",
      "1  3  5  7\n",
      "9  11  13  15\n",
      "17  19  21  23\n",
      "25  27  29  31\n",
      "\n",
      " enter 1 for yes and 0 for no:\n"
     ]
    }
   ],
   "source": [
    "#3-7\n",
    "question1='Is your birthday is set1?\\n'+\\\n",
    "  '1  3  5  7\\n'+\\\n",
    "  '9  11  13  15\\n'+\\\n",
    "  '17  19  21  23\\n'+\\\n",
    "  '25  27  29  31\\n'+\\\n",
    "  '\\n enter 1 for yes and 0 for no:'\n",
    "print(question1)"
   ]
  },
  {
   "cell_type": "code",
   "execution_count": 8,
   "metadata": {},
   "outputs": [
    {
     "name": "stdout",
     "output_type": "stream",
     "text": [
      "hello,world\n",
      "helloworld\n",
      "helloworld\n"
     ]
    }
   ],
   "source": [
    "#3-8\n",
    "print('hello,world')\n",
    "print('hello',end='')\n",
    "print('world')\n",
    "s='hello'+\\\n",
    "'world'\n",
    "print(s)"
   ]
  },
  {
   "cell_type": "code",
   "execution_count": 9,
   "metadata": {},
   "outputs": [
    {
     "data": {
      "text/plain": [
       "2.6666666666666665"
      ]
     },
     "execution_count": 9,
     "metadata": {},
     "output_type": "execute_result"
    }
   ],
   "source": [
    "8/3"
   ]
  },
  {
   "cell_type": "code",
   "execution_count": 10,
   "metadata": {},
   "outputs": [
    {
     "data": {
      "text/plain": [
       "2"
      ]
     },
     "execution_count": 10,
     "metadata": {},
     "output_type": "execute_result"
    }
   ],
   "source": [
    "#3-9\n",
    "8//3"
   ]
  },
  {
   "cell_type": "code",
   "execution_count": 11,
   "metadata": {},
   "outputs": [
    {
     "data": {
      "text/plain": [
       "64"
      ]
     },
     "execution_count": 11,
     "metadata": {},
     "output_type": "execute_result"
    }
   ],
   "source": [
    "8**2"
   ]
  },
  {
   "cell_type": "code",
   "execution_count": 12,
   "metadata": {},
   "outputs": [
    {
     "data": {
      "text/plain": [
       "10.0"
      ]
     },
     "execution_count": 12,
     "metadata": {},
     "output_type": "execute_result"
    }
   ],
   "source": [
    "100**0.5"
   ]
  },
  {
   "cell_type": "code",
   "execution_count": 13,
   "metadata": {},
   "outputs": [
    {
     "data": {
      "text/plain": [
       "2"
      ]
     },
     "execution_count": 13,
     "metadata": {},
     "output_type": "execute_result"
    }
   ],
   "source": [
    "8%3"
   ]
  },
  {
   "cell_type": "code",
   "execution_count": 14,
   "metadata": {},
   "outputs": [
    {
     "name": "stdout",
     "output_type": "stream",
     "text": [
      "100 100 100\n"
     ]
    }
   ],
   "source": [
    "i=100\n",
    "j=100\n",
    "k=100\n",
    "print(i,j,k)"
   ]
  },
  {
   "cell_type": "code",
   "execution_count": 15,
   "metadata": {},
   "outputs": [
    {
     "name": "stdout",
     "output_type": "stream",
     "text": [
      "200 200 200\n"
     ]
    }
   ],
   "source": [
    "i=j=k=200\n",
    "print(i,j,k)"
   ]
  },
  {
   "cell_type": "code",
   "execution_count": 16,
   "metadata": {},
   "outputs": [
    {
     "name": "stdout",
     "output_type": "stream",
     "text": [
      "100 200\n"
     ]
    }
   ],
   "source": [
    "a,b=100,200\n",
    "print(a,b)"
   ]
  },
  {
   "cell_type": "code",
   "execution_count": 17,
   "metadata": {},
   "outputs": [
    {
     "name": "stdout",
     "output_type": "stream",
     "text": [
      "200 200\n"
     ]
    }
   ],
   "source": [
    "#3-10\n",
    "a=100\n",
    "b=200\n",
    "a=b\n",
    "b=a\n",
    "print(a,b)"
   ]
  },
  {
   "cell_type": "code",
   "execution_count": 18,
   "metadata": {},
   "outputs": [
    {
     "name": "stdout",
     "output_type": "stream",
     "text": [
      "200 100\n"
     ]
    }
   ],
   "source": [
    "a=100\n",
    "b=200\n",
    "temp=a\n",
    "a=b\n",
    "b=temp\n",
    "print(a,b)"
   ]
  },
  {
   "cell_type": "code",
   "execution_count": 19,
   "metadata": {},
   "outputs": [
    {
     "name": "stdout",
     "output_type": "stream",
     "text": [
      "200 100\n"
     ]
    }
   ],
   "source": [
    "#3-11\n",
    "a=100\n",
    "b=200\n",
    "a,b=b,a\n",
    "print(a,b)"
   ]
  },
  {
   "cell_type": "code",
   "execution_count": 20,
   "metadata": {},
   "outputs": [
    {
     "name": "stdout",
     "output_type": "stream",
     "text": [
      "12\n",
      "60\n",
      "20\n",
      "2\n"
     ]
    }
   ],
   "source": [
    "#3-12\n",
    "a=10\n",
    "a+=2\n",
    "print(a)\n",
    "a*=5\n",
    "print(a)\n",
    "a//=3\n",
    "print(a)\n",
    "a%=6\n",
    "print(a)\n"
   ]
  },
  {
   "cell_type": "code",
   "execution_count": 21,
   "metadata": {},
   "outputs": [
    {
     "name": "stdout",
     "output_type": "stream",
     "text": [
      "20\n",
      "20\n"
     ]
    }
   ],
   "source": [
    "k=eval(input())\n",
    "k\n",
    "print(k)"
   ]
  },
  {
   "cell_type": "code",
   "execution_count": 22,
   "metadata": {},
   "outputs": [
    {
     "name": "stdout",
     "output_type": "stream",
     "text": [
      "please enter an integer:21\n"
     ]
    },
    {
     "data": {
      "text/plain": [
       "21"
      ]
     },
     "execution_count": 22,
     "metadata": {},
     "output_type": "execute_result"
    }
   ],
   "source": [
    "#3-13\n",
    "s=eval(input('please enter an integer:'))\n",
    "s"
   ]
  },
  {
   "cell_type": "code",
   "execution_count": 2,
   "metadata": {},
   "outputs": [
    {
     "name": "stdout",
     "output_type": "stream",
     "text": [
      "please enter a string:pp\n",
      "pp\n"
     ]
    }
   ],
   "source": [
    "s2=input('please enter a string:')\n",
    "s2\n",
    "print(s2)"
   ]
  },
  {
   "cell_type": "code",
   "execution_count": 3,
   "metadata": {},
   "outputs": [
    {
     "name": "stdout",
     "output_type": "stream",
     "text": [
      "please enter an integer:10\n",
      "10\n"
     ]
    },
    {
     "data": {
      "text/plain": [
       "'10'"
      ]
     },
     "execution_count": 3,
     "metadata": {},
     "output_type": "execute_result"
    }
   ],
   "source": [
    "str2=input('please enter an integer:')\n",
    "print(str2)\n",
    "str2"
   ]
  },
  {
   "cell_type": "code",
   "execution_count": 26,
   "metadata": {},
   "outputs": [
    {
     "name": "stdout",
     "output_type": "stream",
     "text": [
      "please enter an integer:23\n",
      "123\n"
     ]
    }
   ],
   "source": [
    "#p3-14\n",
    "str2=eval(input('please enter an integer:'))\n",
    "num=str2+100\n",
    "print(num)"
   ]
  },
  {
   "cell_type": "code",
   "execution_count": 27,
   "metadata": {},
   "outputs": [
    {
     "name": "stdout",
     "output_type": "stream",
     "text": [
      "please enter number1:1000\n",
      "please enter number2:3000\n",
      "4000\n"
     ]
    }
   ],
   "source": [
    "#3-15\n",
    "num1=eval(input('please enter number1:'))\n",
    "num2=eval(input('please enter number2:'))\n",
    "print(num1+num2)"
   ]
  },
  {
   "cell_type": "code",
   "execution_count": 29,
   "metadata": {},
   "outputs": [
    {
     "name": "stdout",
     "output_type": "stream",
     "text": [
      "enter two numbers separated by comma:100,200\n",
      "300\n"
     ]
    }
   ],
   "source": [
    "num1,num2=eval(input(\"enter two numbers separated by comma:\"))\n",
    "print(num1+num2)"
   ]
  },
  {
   "cell_type": "code",
   "execution_count": 30,
   "metadata": {},
   "outputs": [
    {
     "name": "stdout",
     "output_type": "stream",
     "text": [
      "enter three numbers separated  by commas:100,150,170\n",
      "total=420,and average = 140.000000\n"
     ]
    }
   ],
   "source": [
    "#3-16\n",
    "num1,num2,num3=eval(input('enter three numbers separated  by commas:'))\n",
    "total=num1+num2+num3\n",
    "average=total/3\n",
    "print('total=%d,and average = %f'%(total,average))"
   ]
  },
  {
   "cell_type": "code",
   "execution_count": 32,
   "metadata": {},
   "outputs": [
    {
     "name": "stdout",
     "output_type": "stream",
     "text": [
      "total=420,and average =140.00\n"
     ]
    }
   ],
   "source": [
    "print('total=%d,and average =%.2f'%(total,average))"
   ]
  },
  {
   "cell_type": "code",
   "execution_count": 33,
   "metadata": {},
   "outputs": [
    {
     "name": "stdout",
     "output_type": "stream",
     "text": [
      "enter the radius:5\n",
      "area=78.54\n",
      "perimeter=31.42\n"
     ]
    }
   ],
   "source": [
    "#3-17\n",
    "radius =eval(input('enter the radius:'))\n",
    "area=radius*radius*3.14159\n",
    "perimeter=2*3.14159*radius\n",
    "print('area=%.2f'%(area))\n",
    "print('perimeter=%.2f'%perimeter)"
   ]
  },
  {
   "cell_type": "code",
   "execution_count": null,
   "metadata": {},
   "outputs": [],
   "source": []
  }
 ],
 "metadata": {
  "kernelspec": {
   "display_name": "Python 3",
   "language": "python",
   "name": "python3"
  },
  "language_info": {
   "codemirror_mode": {
    "name": "ipython",
    "version": 3
   },
   "file_extension": ".py",
   "mimetype": "text/x-python",
   "name": "python",
   "nbconvert_exporter": "python",
   "pygments_lexer": "ipython3",
   "version": "3.7.3"
  }
 },
 "nbformat": 4,
 "nbformat_minor": 2
}

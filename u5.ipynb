{
 "cells": [
  {
   "cell_type": "code",
   "execution_count": null,
   "metadata": {},
   "outputs": [],
   "source": [
    "if boolean-expression:\n",
    "    statement(s)"
   ]
  },
  {
   "cell_type": "code",
   "execution_count": 1,
   "metadata": {},
   "outputs": [
    {
     "name": "stdout",
     "output_type": "stream",
     "text": [
      "x=70\n"
     ]
    }
   ],
   "source": [
    "x=65\n",
    "if x>60:\n",
    "    x=x+5\n",
    "print('x=%d'%(x))"
   ]
  },
  {
   "cell_type": "code",
   "execution_count": 2,
   "metadata": {},
   "outputs": [
    {
     "name": "stdout",
     "output_type": "stream",
     "text": [
      "please input numerator:125\n",
      "please input denominator:25\n",
      "125 / 25 = 5.0\n",
      "over\n"
     ]
    }
   ],
   "source": [
    "numerator=eval(input(\"please input numerator:\"))\n",
    "denominator=eval(input(\"please input denominator:\"))\n",
    "if denominator !=0:\n",
    "    ans=numerator/denominator\n",
    "    print(numerator,\"/\",denominator,\"=\",ans)\n",
    "print(\"over\")"
   ]
  },
  {
   "cell_type": "code",
   "execution_count": 3,
   "metadata": {},
   "outputs": [
    {
     "name": "stdout",
     "output_type": "stream",
     "text": [
      "please input numerator:125\n",
      "please input denominator:0\n",
      "over\n"
     ]
    }
   ],
   "source": [
    "numerator=eval(input(\"please input numerator:\"))\n",
    "denominator=eval(input(\"please input denominator:\"))\n",
    "if denominator !=0:\n",
    "    ans=numerator/denominator\n",
    "    print(numerator,\"/\",denominator,\"=\",ans)\n",
    "print(\"over\")"
   ]
  },
  {
   "cell_type": "code",
   "execution_count": 4,
   "metadata": {},
   "outputs": [
    {
     "name": "stdout",
     "output_type": "stream",
     "text": [
      "please input numerator:125\n",
      "please input denominator:25\n",
      "125 / 25 = 5.0\n",
      "over\n"
     ]
    }
   ],
   "source": [
    "numerator=eval(input(\"please input numerator:\"))\n",
    "denominator=eval(input(\"please input denominator:\"))\n",
    "if denominator !=0:\n",
    "    ans=numerator/denominator\n",
    "    print(numerator,\"/\",denominator,\"=\",ans)\n",
    "print(\"over\")"
   ]
  },
  {
   "cell_type": "code",
   "execution_count": 5,
   "metadata": {},
   "outputs": [
    {
     "name": "stdout",
     "output_type": "stream",
     "text": [
      "please input numerator:5\n",
      "5 is 5's multiple\n",
      "over\n"
     ]
    }
   ],
   "source": [
    "number=eval(input(\"please input numerator:\"))\n",
    "if number % 5==0:\n",
    "    print(number,\"is 5's multiple\")\n",
    "print(\"over\")"
   ]
  },
  {
   "cell_type": "code",
   "execution_count": 6,
   "metadata": {},
   "outputs": [
    {
     "name": "stdout",
     "output_type": "stream",
     "text": [
      "please input numerator:125\n",
      "please input denominator:25\n",
      "125 / 25 = 5.0\n",
      "over\n"
     ]
    }
   ],
   "source": [
    "numerator=eval(input(\"please input numerator:\"))\n",
    "denominator=eval(input(\"please input denominator:\"))\n",
    "if denominator !=0:\n",
    "    ans=numerator/denominator\n",
    "    print(numerator,\"/\",denominator,\"=\",ans)\n",
    "else:\n",
    "    print(\"denominator is invalid\")\n",
    "print(\"over\")"
   ]
  },
  {
   "cell_type": "code",
   "execution_count": 7,
   "metadata": {},
   "outputs": [
    {
     "name": "stdout",
     "output_type": "stream",
     "text": [
      "please input numerator:125\n",
      "please input denominator:0\n",
      "denominator is invalid\n",
      "over\n"
     ]
    }
   ],
   "source": [
    "numerator=eval(input(\"please input numerator:\"))\n",
    "denominator=eval(input(\"please input denominator:\"))\n",
    "if denominator !=0:\n",
    "    ans=numerator/denominator\n",
    "    print(numerator,\"/\",denominator,\"=\",ans)\n",
    "else:\n",
    "    print(\"denominator is invalid\")\n",
    "print(\"over\")"
   ]
  },
  {
   "cell_type": "code",
   "execution_count": 9,
   "metadata": {},
   "outputs": [
    {
     "name": "stdout",
     "output_type": "stream",
     "text": [
      "please input a number:88\n",
      "88 is an even number.\n",
      "over\n"
     ]
    }
   ],
   "source": [
    "num=eval(input(\"please input a number:\"))\n",
    "if num%2==0:\n",
    "    print(num,\"is an even number.\")\n",
    "else:\n",
    "  print(num,\"is a odd number.\")\n",
    "print(\"over\")"
   ]
  },
  {
   "cell_type": "code",
   "execution_count": 10,
   "metadata": {},
   "outputs": [
    {
     "name": "stdout",
     "output_type": "stream",
     "text": [
      "please input a number:89\n",
      "89 is a odd number.\n",
      "over\n"
     ]
    }
   ],
   "source": [
    "num=eval(input(\"please input a number:\"))\n",
    "if num%2==0:\n",
    "    print(num,\"is an even number.\")\n",
    "else:\n",
    "  print(num,\"is a odd number.\")\n",
    "print(\"over\")"
   ]
  },
  {
   "cell_type": "code",
   "execution_count": 11,
   "metadata": {},
   "outputs": [
    {
     "name": "stdout",
     "output_type": "stream",
     "text": [
      "please input a number:20\n",
      "20 is greater than 0\n",
      "over\n"
     ]
    }
   ],
   "source": [
    "num=eval(input(\"please input a number:\"))\n",
    "if number>0:\n",
    "    print(num,\"is greater than 0\")\n",
    "else:\n",
    "    if number<0:\n",
    "       print(num,\"is less than 0\")\n",
    "    else:\n",
    "        print(number,\"is equal to 0\")\n",
    "print(\"over\")"
   ]
  },
  {
   "cell_type": "code",
   "execution_count": 12,
   "metadata": {},
   "outputs": [
    {
     "name": "stdout",
     "output_type": "stream",
     "text": [
      "please input a number:-10\n",
      "-10 is greater than 0\n",
      "over\n"
     ]
    }
   ],
   "source": [
    "num=eval(input(\"please input a number:\"))\n",
    "if number>0:\n",
    "    print(num,\"is greater than 0\")\n",
    "else:\n",
    "    if number<0:\n",
    "       print(num,\"is less than 0\")\n",
    "    else:\n",
    "        print(number,\"is equal to 0\")\n",
    "print(\"over\")"
   ]
  },
  {
   "cell_type": "code",
   "execution_count": 13,
   "metadata": {},
   "outputs": [
    {
     "name": "stdout",
     "output_type": "stream",
     "text": [
      "please input a number:0\n",
      "0 is greater than 0\n",
      "over\n"
     ]
    }
   ],
   "source": [
    "num=eval(input(\"please input a number:\"))\n",
    "if number>0:\n",
    "    print(num,\"is greater than 0\")\n",
    "else:\n",
    "    if number<0:\n",
    "       print(num,\"is less than 0\")\n",
    "    else:\n",
    "        print(number,\"is equal to 0\")\n",
    "print(\"over\")"
   ]
  },
  {
   "cell_type": "code",
   "execution_count": 14,
   "metadata": {},
   "outputs": [
    {
     "name": "stdout",
     "output_type": "stream",
     "text": [
      "please input a number:20\n",
      "20 is greater than 0\n",
      "over\n"
     ]
    }
   ],
   "source": [
    "num=eval(input(\"please input a number:\"))\n",
    "if number>0:\n",
    "    print(num,\"is greater than 0\")\n",
    "elif number<0:\n",
    "    print(num,\"is less than 0\")\n",
    "else:\n",
    "    print(number,\"is equal to 0\")\n",
    "print(\"over\")"
   ]
  },
  {
   "cell_type": "code",
   "execution_count": 15,
   "metadata": {},
   "outputs": [
    {
     "name": "stdout",
     "output_type": "stream",
     "text": [
      "please input your score:86\n",
      "grade a\n"
     ]
    }
   ],
   "source": [
    "score=eval(input(\"please input your score:\"))\n",
    "if score>=80:\n",
    "    print(\"grade a\")\n",
    "elif score>=70:\n",
    "    print(\"grade b\")\n",
    "elif score>=60:\n",
    "    print(\"grade c\")\n",
    "elif score>=50:\n",
    "    print(\"grade d\")\n",
    "else:\n",
    "    print(\"grade e\")"
   ]
  },
  {
   "cell_type": "code",
   "execution_count": 16,
   "metadata": {},
   "outputs": [
    {
     "name": "stdout",
     "output_type": "stream",
     "text": [
      "please input your score:62\n",
      "grade c\n"
     ]
    }
   ],
   "source": [
    "score=eval(input(\"please input your score:\"))\n",
    "if score>=80:\n",
    "    print(\"grade a\")\n",
    "elif score>=70:\n",
    "    print(\"grade b\")\n",
    "elif score>=60:\n",
    "    print(\"grade c\")\n",
    "elif score>=50:\n",
    "    print(\"grade d\")\n",
    "else:\n",
    "    print(\"grade e\")"
   ]
  },
  {
   "cell_type": "code",
   "execution_count": 41,
   "metadata": {},
   "outputs": [
    {
     "ename": "SyntaxError",
     "evalue": "invalid syntax (<ipython-input-41-feba49690f7a>, line 3)",
     "output_type": "error",
     "traceback": [
      "\u001b[1;36m  File \u001b[1;32m\"<ipython-input-41-feba49690f7a>\"\u001b[1;36m, line \u001b[1;32m3\u001b[0m\n\u001b[1;33m    heightInCentimeter=('height'/100)\u001b[0m\n\u001b[1;37m                     ^\u001b[0m\n\u001b[1;31mSyntaxError\u001b[0m\u001b[1;31m:\u001b[0m invalid syntax\n"
     ]
    }
   ],
   "source": [
    "weight=eval(input(\"please input your weight(kilogram):\"))\n",
    "height=eval(input(\"please input your height(centimeter):)\") \n",
    "heightInCentimeter=('height'/100)\n",
    "\n",
    "bmi=weight/(heightInCentimeter*heightInCentimeter)\n",
    "print(\"your bmi is\",format(bmi,\".2f\"))\n",
    "\n",
    "if bmi<18.5:\n",
    "    print(\"underweight\")\n",
    "elif bmi<25:\n",
    "    print(\"normal\")\n",
    "elif bmi<30:\n",
    "    print(\"overweight\")\n",
    "else:\n",
    "    print(\"obese\")"
   ]
  },
  {
   "cell_type": "code",
   "execution_count": 2,
   "metadata": {},
   "outputs": [
    {
     "name": "stdout",
     "output_type": "stream",
     "text": [
      "please enter which year?23\n",
      "23 is not leap year\n"
     ]
    }
   ],
   "source": [
    "year=eval(input(\"please enter which year?\"))\n",
    "if year %400==0 or (year%4==0 and year%100 !=0):\n",
    "    print(year,\"is leap year\")\n",
    "else:\n",
    "    print(year,\"is not leap year\")"
   ]
  },
  {
   "cell_type": "code",
   "execution_count": 3,
   "metadata": {},
   "outputs": [
    {
     "name": "stdout",
     "output_type": "stream",
     "text": [
      "please enter a number:-100\n",
      "100\n"
     ]
    }
   ],
   "source": [
    "number=eval(input(\"please enter a number:\"))\n",
    "\n",
    "if number>=0:\n",
    "    print(number)\n",
    "else:\n",
    "    print(-number)"
   ]
  },
  {
   "cell_type": "code",
   "execution_count": 4,
   "metadata": {},
   "outputs": [
    {
     "name": "stdout",
     "output_type": "stream",
     "text": [
      "please enter a number:100\n",
      "100\n"
     ]
    }
   ],
   "source": [
    "number=eval(input(\"please enter a number:\"))\n",
    "\n",
    "if number>=0:\n",
    "    print(number)\n",
    "else:\n",
    "    print(-number)"
   ]
  },
  {
   "cell_type": "code",
   "execution_count": 5,
   "metadata": {},
   "outputs": [
    {
     "name": "stdout",
     "output_type": "stream",
     "text": [
      "enter your score:90\n",
      "your pass\n"
     ]
    }
   ],
   "source": [
    "score=eval(input(\"enter your score:\"))\n",
    "\n",
    "if score>=60:\n",
    "    print('your pass')\n",
    "else:\n",
    "    print('your fail')"
   ]
  },
  {
   "cell_type": "code",
   "execution_count": 7,
   "metadata": {},
   "outputs": [
    {
     "name": "stdout",
     "output_type": "stream",
     "text": [
      "enter your score:50\n",
      "your fail\n"
     ]
    }
   ],
   "source": [
    "score=eval(input(\"enter your score:\"))\n",
    "\n",
    "if score>=60:\n",
    "    print('your pass')\n",
    "else:\n",
    "    print('your fail')"
   ]
  },
  {
   "cell_type": "code",
   "execution_count": 16,
   "metadata": {},
   "outputs": [
    {
     "name": "stdout",
     "output_type": "stream",
     "text": [
      "enter number1:60\n",
      "enter number2:60\n",
      "enter an arithmetic operator(+,-,*,/):*\n",
      "60.0000*60.0000=3600.0000\n"
     ]
    }
   ],
   "source": [
    "number1=(eval(input('enter number1:')))\n",
    "number2=(eval(input('enter number2:')))\n",
    "         \n",
    "operator=input('enter an arithmetic operator(+,-,*,/):')\n",
    "result=0\n",
    "if operator=='+':\n",
    "   result=number1+number2\n",
    "elif operator=='-':\n",
    "   result=number1+number2\n",
    "elif operator=='*':\n",
    "   result=number1*number2\n",
    "elif operator=='/':\n",
    "   result=number1/number2\n",
    "         \n",
    "print('%.4f%c%.4f=%.4f'%(number1,operator,number2,result))"
   ]
  },
  {
   "cell_type": "code",
   "execution_count": null,
   "metadata": {},
   "outputs": [],
   "source": []
  },
  {
   "cell_type": "code",
   "execution_count": 17,
   "metadata": {},
   "outputs": [
    {
     "name": "stdout",
     "output_type": "stream",
     "text": [
      "enter number1:100\n",
      "enter number2:200\n",
      "enter an arithmetic operator(+,-,*,/):+\n",
      "100.0000+200.0000=300.0000\n"
     ]
    }
   ],
   "source": [
    "number1=(eval(input('enter number1:')))\n",
    "number2=(eval(input('enter number2:')))\n",
    "         \n",
    "operator=input('enter an arithmetic operator(+,-,*,/):')\n",
    "result=0\n",
    "if operator=='+':\n",
    "   result=number1+number2\n",
    "elif operator=='-':\n",
    "   result=number1+number2\n",
    "elif operator=='*':\n",
    "   result=number1*number2\n",
    "elif operator=='/':\n",
    "   result=number1/number2\n",
    "         \n",
    "print('%.4f%c%.4f=%.4f'%(number1,operator,number2,result))"
   ]
  },
  {
   "cell_type": "code",
   "execution_count": 22,
   "metadata": {},
   "outputs": [
    {
     "name": "stdout",
     "output_type": "stream",
     "text": [
      "請輸入年齡:18\n",
      "你的年齡屬於青年\n"
     ]
    }
   ],
   "source": [
    "age=eval(input('請輸入年齡:'))\n",
    "state=''\n",
    "\n",
    "if age <6:\n",
    "    state='童年'\n",
    "elif age >=7and age<=17:\n",
    "    state='少年'\n",
    "elif age >=18and age<=40:\n",
    "    state='青年'\n",
    "elif age >=41and age<=65:\n",
    "    state='中年'\n",
    "elif age >=66:\n",
    "    state='老年'\n",
    "print('你的年齡屬於%s'% state)     "
   ]
  },
  {
   "cell_type": "code",
   "execution_count": 23,
   "metadata": {},
   "outputs": [
    {
     "name": "stdout",
     "output_type": "stream",
     "text": [
      "請輸入年齡:45\n",
      "你的年齡屬於中年\n"
     ]
    }
   ],
   "source": [
    "age=eval(input('請輸入年齡:'))\n",
    "state=''\n",
    "\n",
    "if age <6:\n",
    "    state='童年'\n",
    "elif age >=7and age<=17:\n",
    "    state='少年'\n",
    "elif age >=18and age<=40:\n",
    "    state='青年'\n",
    "elif age >=41and age<=65:\n",
    "    state='中年'\n",
    "elif age >=66:\n",
    "    state='老年'\n",
    "print('你的年齡屬於%s'% state)     "
   ]
  },
  {
   "cell_type": "code",
   "execution_count": 24,
   "metadata": {},
   "outputs": [
    {
     "name": "stdout",
     "output_type": "stream",
     "text": [
      "is your birthday in set1?\n",
      "1 3 5 7\n",
      "9 11 13 15\n",
      "17 19 21 23\n",
      "25 27 29 31\n",
      "\n",
      "entwe 1 for yes and 0 for no:1\n",
      "is your birthday in set2?\n",
      "2 3 6 7\n",
      "10 11 14 15\n",
      "18 19 22 23\n",
      "26 27 30 31\n",
      "\n",
      "entwe 1 for yes and 0 for no:0\n",
      "is your birthday in set3?\n",
      "4 5 6 7\n",
      "12 13 14 15\n",
      "20 21 22 23\n",
      "28 29 30 31\n",
      "\n",
      "entwe 1 for yes and 0 for no:1\n",
      "is your birthday in set4?\n",
      "8 9 10 11\n",
      "12 13 14 15\n",
      "24 25 26 27\n",
      "28 29 30 31\n",
      "\n",
      "entwe 1 for yes and 0 for no:1\n",
      "is your birthday in set5?\n",
      "16 17 18 19\n",
      "20 21 22 23\n",
      "24 25 26 27\n",
      "28 29 30 31\n",
      "\n",
      "entwe 1 for yes and 0 for no:0\n",
      "your birthday is 13\n"
     ]
    }
   ],
   "source": [
    "day =0\n",
    "question1 = \"is your birthday in set1?\\n\"+\\\n",
    "      \"1 3 5 7\\n\"+\\\n",
    "      \"9 11 13 15\\n\"+\\\n",
    "      \"17 19 21 23\\n\"+\\\n",
    "      \"25 27 29 31\\n\"+\\\n",
    "      \"\\nentwe 1 for yes and 0 for no:\"\n",
    "answer=eval(input(question1))\n",
    "\n",
    "if answer==1:\n",
    "    day+=1\n",
    "\n",
    "question2 = \"is your birthday in set2?\\n\"+\\\n",
    "      \"2 3 6 7\\n\"+\\\n",
    "      \"10 11 14 15\\n\"+\\\n",
    "      \"18 19 22 23\\n\"+\\\n",
    "      \"26 27 30 31\\n\"+\\\n",
    "      \"\\nentwe 1 for yes and 0 for no:\"\n",
    "answer=eval(input(question2))\n",
    "\n",
    "if answer==1:\n",
    "    day+=2\n",
    "    \n",
    "question3 = \"is your birthday in set3?\\n\"+\\\n",
    "      \"4 5 6 7\\n\"+\\\n",
    "      \"12 13 14 15\\n\"+\\\n",
    "      \"20 21 22 23\\n\"+\\\n",
    "      \"28 29 30 31\\n\"+\\\n",
    "      \"\\nentwe 1 for yes and 0 for no:\"\n",
    "answer=eval(input(question3))\n",
    "\n",
    "if answer==1:\n",
    "    day+=4\n",
    "    \n",
    "question4 = \"is your birthday in set4?\\n\"+\\\n",
    "      \"8 9 10 11\\n\"+\\\n",
    "      \"12 13 14 15\\n\"+\\\n",
    "      \"24 25 26 27\\n\"+\\\n",
    "      \"28 29 30 31\\n\"+\\\n",
    "      \"\\nentwe 1 for yes and 0 for no:\"\n",
    "answer=eval(input(question4))\n",
    "\n",
    "if answer==1:\n",
    "    day+=8\n",
    "    \n",
    "question5 = \"is your birthday in set5?\\n\"+\\\n",
    "      \"16 17 18 19\\n\"+\\\n",
    "      \"20 21 22 23\\n\"+\\\n",
    "      \"24 25 26 27\\n\"+\\\n",
    "      \"28 29 30 31\\n\"+\\\n",
    "      \"\\nentwe 1 for yes and 0 for no:\"\n",
    "answer=eval(input(question5))\n",
    "\n",
    "if answer==1:\n",
    "    day+=16\n",
    "    \n",
    "print(\"your birthday is\",day)"
   ]
  },
  {
   "cell_type": "code",
   "execution_count": 25,
   "metadata": {},
   "outputs": [
    {
     "name": "stdout",
     "output_type": "stream",
     "text": [
      "enter your score:56\n",
      "your score is 56\n"
     ]
    }
   ],
   "source": [
    "score=eval(input(\"enter your score:\"))\n",
    "\n",
    "if score>=60:\n",
    "   score+=10\n",
    "print('your score is %d'%(score))"
   ]
  },
  {
   "cell_type": "code",
   "execution_count": 26,
   "metadata": {},
   "outputs": [
    {
     "name": "stdout",
     "output_type": "stream",
     "text": [
      "enter your score:23\n",
      "your score is 31\n"
     ]
    }
   ],
   "source": [
    "score=eval(input(\"enter your score:\"))\n",
    "\n",
    "if score>=60:\n",
    "   score+=10\n",
    "else:\n",
    "    score+=8\n",
    "print('your score is %d'%(score))"
   ]
  },
  {
   "cell_type": "code",
   "execution_count": 27,
   "metadata": {},
   "outputs": [
    {
     "name": "stdout",
     "output_type": "stream",
     "text": [
      "enter temperature today:29\n",
      "hot\n",
      "over\n"
     ]
    }
   ],
   "source": [
    "temperature=eval(input('enter temperature today:'))\n",
    "if temperature >=28:\n",
    "    print('hot')\n",
    "else:\n",
    "    print('comfortable')\n",
    "print('over')"
   ]
  },
  {
   "cell_type": "code",
   "execution_count": 28,
   "metadata": {},
   "outputs": [
    {
     "name": "stdout",
     "output_type": "stream",
     "text": [
      "enter temperature today:26\n",
      "comfortable\n",
      "over\n"
     ]
    }
   ],
   "source": [
    "temperature=eval(input('enter temperature today:'))\n",
    "if temperature >=28:\n",
    "    print('hot')\n",
    "elif temperature>=22:\n",
    "    print('comfortable')\n",
    "else:\n",
    "    print('cold')\n",
    "\n",
    "print('over')"
   ]
  },
  {
   "cell_type": "code",
   "execution_count": 31,
   "metadata": {},
   "outputs": [
    {
     "name": "stdout",
     "output_type": "stream",
     "text": [
      "enter temperature today:23\n",
      "enter humility today:25\n",
      "cold\n",
      "over\n"
     ]
    }
   ],
   "source": [
    "temperature=eval(input('enter temperature today:'))\n",
    "humility=eval(input('enter humility today:'))\n",
    "if temperature >=28:\n",
    "    print('hot')\n",
    "elif temperature>=22and humility >=40 and humility<=50:\n",
    "    print('comfortable')\n",
    "else:\n",
    "    print('cold')\n",
    "\n",
    "print('over')"
   ]
  },
  {
   "cell_type": "code",
   "execution_count": 34,
   "metadata": {},
   "outputs": [
    {
     "name": "stdout",
     "output_type": "stream",
     "text": [
      "enter a charcter:52\n",
      "52 is other character\n"
     ]
    }
   ],
   "source": [
    "char=input('enter a charcter:')\n",
    "if char >='a'and char <='z':\n",
    "   print('%c is lowercase character'%(char))\n",
    "elif char >='A'and char <='Z':\n",
    "   print('%c is uppercase character'%(char))\n",
    "else:\n",
    "    print('%s is other character'%(char))"
   ]
  },
  {
   "cell_type": "code",
   "execution_count": 36,
   "metadata": {},
   "outputs": [
    {
     "name": "stdout",
     "output_type": "stream",
     "text": [
      "enter a number:52\n",
      "52 is even number.\n",
      "test is over\n"
     ]
    }
   ],
   "source": [
    "num=eval(input('enter a number:'))\n",
    "if num %2 ==0:\n",
    "    print('%d'%(num),end='')\n",
    "    print(' is even number.')\n",
    "else:\n",
    "    print('%d'%(num),end='')\n",
    "    print('is odd number.')\n",
    "print('test is over')"
   ]
  },
  {
   "cell_type": "code",
   "execution_count": 38,
   "metadata": {},
   "outputs": [
    {
     "name": "stdout",
     "output_type": "stream",
     "text": [
      "please input radius:56\n",
      "radius= 56\n",
      "area= 9851.99488\n"
     ]
    }
   ],
   "source": [
    "radius=eval(input(\"please input radius:\"))\n",
    "\n",
    "if radius==0:\n",
    "    print(\"negative is not invalid !!!\");\n",
    "else:\n",
    "    area=radius*radius*3.14158\n",
    "print(\"radius=\",radius)\n",
    "print(\"area=\",area)"
   ]
  },
  {
   "cell_type": "code",
   "execution_count": 39,
   "metadata": {},
   "outputs": [
    {
     "name": "stdout",
     "output_type": "stream",
     "text": [
      "enter temperature today:56\n",
      "hot\n",
      "over\n"
     ]
    }
   ],
   "source": [
    "temperature=eval(input('enter temperature today:'))\n",
    "if temperature >=28:\n",
    "    print('hot')\n",
    "elif temperature>=22:\n",
    "    print('comfortable')\n",
    "else:\n",
    "    print('cold')\n",
    "\n",
    "print('over')"
   ]
  },
  {
   "cell_type": "code",
   "execution_count": 40,
   "metadata": {},
   "outputs": [
    {
     "name": "stdout",
     "output_type": "stream",
     "text": [
      "enter your score:56\n",
      "your score is 64\n"
     ]
    }
   ],
   "source": [
    "score=eval(input(\"enter your score:\"))\n",
    "\n",
    "if score>=60:\n",
    "    score+=10\n",
    "else:\n",
    "    score+=8\n",
    "print('your score is %d'%(score))"
   ]
  },
  {
   "cell_type": "code",
   "execution_count": 42,
   "metadata": {},
   "outputs": [
    {
     "name": "stdout",
     "output_type": "stream",
     "text": [
      "enter temperature today:556\n",
      "enter humility today:23\n",
      "hot\n",
      "over\n"
     ]
    }
   ],
   "source": [
    "temperature=eval(input('enter temperature today:'))\n",
    "humility=eval(input('enter humility today:'))\n",
    "if temperature >=28:\n",
    "    print('hot')\n",
    "elif temperature>=22and humility >=40 and humility<=50:\n",
    "    print('comfortable')\n",
    "else:\n",
    "    print('cold')\n",
    "\n",
    "print('over')"
   ]
  },
  {
   "cell_type": "code",
   "execution_count": 44,
   "metadata": {},
   "outputs": [
    {
     "name": "stdout",
     "output_type": "stream",
     "text": [
      "please inout what year?56\n",
      "56 is not leap year\n"
     ]
    }
   ],
   "source": [
    "year=eval(input(\"please inout what year?\"))\n",
    "if year % 400==0 and (year%4==0 or year %100!=0):\n",
    "    print(year,\"is leap year\")\n",
    "else:\n",
    "    print(year,\"is not leap year\")"
   ]
  },
  {
   "cell_type": "code",
   "execution_count": 45,
   "metadata": {},
   "outputs": [
    {
     "name": "stdout",
     "output_type": "stream",
     "text": [
      "enter a charcter:52\n",
      "52 is other character\n"
     ]
    }
   ],
   "source": [
    "char=input('enter a charcter:')\n",
    "if char >='a'and char <='z':\n",
    "   print('%c is lowercase character'%(char))\n",
    "elif char >='A'and char <='Z':\n",
    "   print('%c is uppercase character'%(char))\n",
    "else:\n",
    "    print('%s is other character'%(char))"
   ]
  },
  {
   "cell_type": "code",
   "execution_count": 49,
   "metadata": {},
   "outputs": [
    {
     "name": "stdout",
     "output_type": "stream",
     "text": [
      "enter a number:2\n"
     ]
    },
    {
     "ename": "TypeError",
     "evalue": "not all arguments converted during string formatting",
     "output_type": "error",
     "traceback": [
      "\u001b[1;31m---------------------------------------------------------------------------\u001b[0m",
      "\u001b[1;31mTypeError\u001b[0m                                 Traceback (most recent call last)",
      "\u001b[1;32m<ipython-input-49-676c3abc4881>\u001b[0m in \u001b[0;36m<module>\u001b[1;34m\u001b[0m\n\u001b[0;32m      1\u001b[0m \u001b[0mnum\u001b[0m\u001b[1;33m=\u001b[0m\u001b[1;33m(\u001b[0m\u001b[0minput\u001b[0m\u001b[1;33m(\u001b[0m\u001b[1;34m'enter a number:'\u001b[0m\u001b[1;33m)\u001b[0m\u001b[1;33m)\u001b[0m\u001b[1;33m\u001b[0m\u001b[1;33m\u001b[0m\u001b[0m\n\u001b[1;32m----> 2\u001b[1;33m \u001b[1;32mif\u001b[0m \u001b[0mnum\u001b[0m \u001b[1;33m%\u001b[0m \u001b[1;36m2\u001b[0m\u001b[1;33m==\u001b[0m\u001b[1;36m0\u001b[0m\u001b[1;33m:\u001b[0m\u001b[1;33m\u001b[0m\u001b[1;33m\u001b[0m\u001b[0m\n\u001b[0m\u001b[0;32m      3\u001b[0m     \u001b[0mprint\u001b[0m\u001b[1;33m(\u001b[0m\u001b[1;34m'%d'\u001b[0m\u001b[1;33m%\u001b[0m\u001b[1;33m(\u001b[0m\u001b[0mnum\u001b[0m\u001b[1;33m)\u001b[0m\u001b[1;33m,\u001b[0m\u001b[0mend\u001b[0m\u001b[1;33m=\u001b[0m\u001b[1;34m''\u001b[0m\u001b[1;33m)\u001b[0m\u001b[1;33m\u001b[0m\u001b[1;33m\u001b[0m\u001b[0m\n\u001b[0;32m      4\u001b[0m     \u001b[0mprint\u001b[0m\u001b[1;33m(\u001b[0m\u001b[1;34m'is even number.'\u001b[0m\u001b[1;33m)\u001b[0m\u001b[1;33m\u001b[0m\u001b[1;33m\u001b[0m\u001b[0m\n\u001b[0;32m      5\u001b[0m \u001b[1;32melse\u001b[0m\u001b[1;33m:\u001b[0m\u001b[1;33m\u001b[0m\u001b[1;33m\u001b[0m\u001b[0m\n",
      "\u001b[1;31mTypeError\u001b[0m: not all arguments converted during string formatting"
     ]
    }
   ],
   "source": [
    "num=(input('enter a number:'))\n",
    "if num % 2==0:\n",
    "    print('%d'%(num),end='')\n",
    "    print('is even number.')\n",
    "else:\n",
    "    print('%d'%(num),end='')\n",
    "    print('is even number.')\n",
    "print('test is over')"
   ]
  },
  {
   "cell_type": "code",
   "execution_count": null,
   "metadata": {},
   "outputs": [],
   "source": []
  },
  {
   "cell_type": "code",
   "execution_count": null,
   "metadata": {},
   "outputs": [],
   "source": []
  }
 ],
 "metadata": {
  "kernelspec": {
   "display_name": "Python 3",
   "language": "python",
   "name": "python3"
  },
  "language_info": {
   "codemirror_mode": {
    "name": "ipython",
    "version": 3
   },
   "file_extension": ".py",
   "mimetype": "text/x-python",
   "name": "python",
   "nbconvert_exporter": "python",
   "pygments_lexer": "ipython3",
   "version": "3.7.3"
  }
 },
 "nbformat": 4,
 "nbformat_minor": 2
}
